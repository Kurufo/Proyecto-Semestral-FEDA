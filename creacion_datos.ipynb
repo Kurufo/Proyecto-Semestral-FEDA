{
 "cells": [
  {
   "cell_type": "code",
   "execution_count": 1,
   "id": "9eb6f783",
   "metadata": {},
   "outputs": [
    {
     "data": {
      "text/plain": [
       "['<?xml version=\"1.0\" encoding=\"ISO-8859-1\"?>',\n",
       " '<!DOCTYPE dblp SYSTEM \"dblp.dtd\">',\n",
       " '<dblp>',\n",
       " '<data mdate=\"2023-03-15\" key=\"data/10/Lu22c\">',\n",
       " '<author orcid=\"0000-0001-9742-4173\">Peggy Joy Lu</author>',\n",
       " '<title>MI3.</title>',\n",
       " '<year>2022</year>',\n",
       " '<month>May</month>',\n",
       " '<ee>https://doi.org/10.21227/0ndm-6g50</ee>',\n",
       " '<publisher>IEEE DataPort</publisher>',\n",
       " '</data>',\n",
       " '<data mdate=\"2023-03-15\" key=\"data/10/HomoliakH22\">',\n",
       " '<author orcid=\"0000-0002-0790-0875\">Ivan Homoliak</author>',\n",
       " '<author orcid=\"0000-0001-5507-0768\">Petr Han&aacute;cek</author>',\n",
       " '<title>ASNM Datasets: A Collection of Network Traffic Data for Testing of Adversarial Classifiers and Network Intrusion Detectors.</title>',\n",
       " '<year>2022</year>',\n",
       " '<month>May</month>',\n",
       " '<ee type=\"oa\">https://doi.org/10.21227/081t-dj23</ee>',\n",
       " '<publisher>IEEE DataPort</publisher>',\n",
       " '</data>']"
      ]
     },
     "execution_count": 1,
     "metadata": {},
     "output_type": "execute_result"
    }
   ],
   "source": [
    "x=open(\"dblp.xml\", \"r\")\n",
    "x=x.read()\n",
    "x=x.split(\"\\n\")\n",
    "x[:20]"
   ]
  },
  {
   "cell_type": "code",
   "execution_count": 2,
   "id": "a541c9e1",
   "metadata": {},
   "outputs": [
    {
     "name": "stdout",
     "output_type": "stream",
     "text": [
      "done\n"
     ]
    }
   ],
   "source": [
    "data=[]\n",
    "for i in range(93368555):\n",
    "    if \"<author\" in x[i]:\n",
    "        x_i=x[i]\n",
    "        x_s=x_i[1:]\n",
    "        n=x_s.index(\">\")\n",
    "        m=x_s.index(\"<\")\n",
    "        data.append(x_s[n+1:m])\n",
    "    elif \"<title\" in x[i]:\n",
    "        data.append(\"t\")\n",
    "print(\"done\")"
   ]
  },
  {
   "cell_type": "code",
   "execution_count": 3,
   "id": "ffe8ab2b",
   "metadata": {},
   "outputs": [
    {
     "data": {
      "text/plain": [
       "34887779"
      ]
     },
     "execution_count": 3,
     "metadata": {},
     "output_type": "execute_result"
    }
   ],
   "source": [
    "len(data)"
   ]
  },
  {
   "cell_type": "code",
   "execution_count": 4,
   "id": "7ee990d8",
   "metadata": {},
   "outputs": [
    {
     "name": "stdout",
     "output_type": "stream",
     "text": [
      "done\n"
     ]
    }
   ],
   "source": [
    "autores=open(\"autores.txt\",\"w\")\n",
    "for i in data:\n",
    "    autores.write(i)\n",
    "    autores.write(\"\\n\")\n",
    "autores.close()\n",
    "print(\"done\")\n"
   ]
  },
  {
   "cell_type": "code",
   "execution_count": 5,
   "id": "a2d0397c",
   "metadata": {},
   "outputs": [
    {
     "name": "stdout",
     "output_type": "stream",
     "text": [
      "Total de autores:  3369861\n"
     ]
    }
   ],
   "source": [
    "numerales=dict()\n",
    "cont=0\n",
    "for i in data:\n",
    "    if i!=\"t\":\n",
    "        if i not in numerales:\n",
    "            numerales[i]=cont\n",
    "            cont+=1\n",
    "print(\"Total de autores: \", cont)"
   ]
  },
  {
   "cell_type": "code",
   "execution_count": 6,
   "id": "dc3f8de5",
   "metadata": {},
   "outputs": [
    {
     "data": {
      "text/plain": [
       "1"
      ]
     },
     "execution_count": 6,
     "metadata": {},
     "output_type": "execute_result"
    }
   ],
   "source": [
    "numerales[\"Ivan Homoliak\"]"
   ]
  },
  {
   "cell_type": "code",
   "execution_count": 7,
   "id": "a8023a0f",
   "metadata": {},
   "outputs": [],
   "source": [
    "ady_list=dict()\n",
    "temp=[]\n",
    "for i in data:\n",
    "    if i==\"t\":\n",
    "        for k in temp:\n",
    "            for n in temp:\n",
    "                if k!=n:\n",
    "                    if k in ady_list:\n",
    "                        if n in ady_list[k]:\n",
    "                            ady_list[k][n]+=1\n",
    "                        else:\n",
    "                            ady_list[k][n]=1\n",
    "                    else:\n",
    "                        ady_list[k]=dict()\n",
    "                        ady_list[k][n]=1                   \n",
    "        temp=[]\n",
    "    else:\n",
    "        temp.append(i)"
   ]
  },
  {
   "cell_type": "code",
   "execution_count": 8,
   "id": "4f4b480b",
   "metadata": {},
   "outputs": [
    {
     "data": {
      "text/plain": [
       "{'Lo-Yao Yeh': 3,\n",
       " 'Jen-Wei Hu': 1,\n",
       " 'Jiun-Long Huang': 2,\n",
       " 'Jen-Hui Chuang': 3,\n",
       " 'Szu-Hao Huang': 1,\n",
       " 'Chia-Yung Jui': 1}"
      ]
     },
     "execution_count": 8,
     "metadata": {},
     "output_type": "execute_result"
    }
   ],
   "source": [
    "ady_list[\"Peggy Joy Lu\"]"
   ]
  },
  {
   "cell_type": "code",
   "execution_count": null,
   "id": "b74ba353",
   "metadata": {},
   "outputs": [],
   "source": [
    "## Arreglar lo de arriba para que quede como lista de adyacencia\n",
    "## Es cosa de usar el otro diccionario"
   ]
  },
  {
   "cell_type": "code",
   "execution_count": 48,
   "id": "2df641c8",
   "metadata": {},
   "outputs": [
    {
     "data": {
      "text/plain": [
       "'Peggy Joy Lu'"
      ]
     },
     "execution_count": 48,
     "metadata": {},
     "output_type": "execute_result"
    }
   ],
   "source": [
    "data[0]"
   ]
  },
  {
   "cell_type": "code",
   "execution_count": 35,
   "id": "7d9b45fd",
   "metadata": {},
   "outputs": [],
   "source": [
    "test[4][5]+=1"
   ]
  },
  {
   "cell_type": "code",
   "execution_count": 9,
   "id": "f6d10bac",
   "metadata": {},
   "outputs": [
    {
     "name": "stdout",
     "output_type": "stream",
     "text": [
      "done\n"
     ]
    }
   ],
   "source": [
    "lista_autores=open(\"lista_autores.txt\",\"w\")\n",
    "for i in ady_list:\n",
    "    lista_autores.write(i)\n",
    "    lista_autores.write(\"\\n\")\n",
    "lista_autores.close()\n",
    "print(\"done\")\n"
   ]
  },
  {
   "cell_type": "code",
   "execution_count": 11,
   "id": "54189373",
   "metadata": {},
   "outputs": [],
   "source": [
    "csrmat=dict()\n",
    "temp=[]\n",
    "for i in data:\n",
    "    if i==\"t\":\n",
    "        for k in temp:\n",
    "            for n in temp:\n",
    "                if k!=n:\n",
    "                    if k in csrmat:\n",
    "                        if n in csrmat[k]:\n",
    "                            csrmat[k][n]+=1\n",
    "                        else:\n",
    "                            csrmat[k][n]=1\n",
    "                    else:\n",
    "                        csrmat[k]=dict()\n",
    "                        csrmat[k][n]=1                   \n",
    "        temp=[]\n",
    "    else:\n",
    "        temp.append(numerales[i])"
   ]
  },
  {
   "cell_type": "code",
   "execution_count": 15,
   "id": "8e82eb76",
   "metadata": {},
   "outputs": [
    {
     "name": "stdout",
     "output_type": "stream",
     "text": [
      "done\n"
     ]
    }
   ],
   "source": [
    "adyacencia=open(\"adyacencia.txt\",\"w\")\n",
    "for i in csrmat:\n",
    "    adyacencia.write(str(i))\n",
    "    adyacencia.write(\"\\n\")\n",
    "adyacencia.close()\n",
    "print(\"done\")"
   ]
  },
  {
   "cell_type": "code",
   "execution_count": 13,
   "id": "297c150d",
   "metadata": {},
   "outputs": [
    {
     "data": {
      "text/plain": [
       "{694451: 3, 3284613: 1, 1388773: 2, 2760643: 3, 2334274: 1, 1477697: 1}"
      ]
     },
     "execution_count": 13,
     "metadata": {},
     "output_type": "execute_result"
    }
   ],
   "source": [
    "csrmat[0]"
   ]
  },
  {
   "cell_type": "code",
   "execution_count": 1,
   "id": "28629614",
   "metadata": {},
   "outputs": [
    {
     "data": {
      "text/plain": [
       "['Peggy Joy Lu',\n",
       " 't',\n",
       " 'Ivan Homoliak',\n",
       " 'Petr Han&aacute;cek',\n",
       " 't',\n",
       " 'TaeYoung Kim',\n",
       " 'Hyung-Jong Kim',\n",
       " 't',\n",
       " 'Simone Godio',\n",
       " 't',\n",
       " 'Aneesa Abbasi',\n",
       " 'Nabeel Sabir Khan',\n",
       " 'Adnan Abid',\n",
       " 'Muhammad Shoaib Farooq',\n",
       " 'Yaser Daanial Khan',\n",
       " 'Bilal Hassan',\n",
       " 'Awais Kamran',\n",
       " 't',\n",
       " 'Mohammed J. Abdulaal',\n",
       " 'Alexander J. Casson']"
      ]
     },
     "execution_count": 1,
     "metadata": {},
     "output_type": "execute_result"
    }
   ],
   "source": [
    "y=open(\"autores.txt\", \"r\")\n",
    "y=y.read()\n",
    "y=y.split(\"\\n\")\n",
    "y[:20]"
   ]
  },
  {
   "cell_type": "code",
   "execution_count": 12,
   "id": "0ba59672",
   "metadata": {},
   "outputs": [
    {
     "name": "stdout",
     "output_type": "stream",
     "text": [
      "listo\n"
     ]
    }
   ],
   "source": [
    "ady_list=dict()\n",
    "temp=[]\n",
    "articulos=0\n",
    "autores=set()\n",
    "for i in y:\n",
    "    if i==\"t\":\n",
    "        articulos+=1\n",
    "        for k in temp:\n",
    "            for n in temp:\n",
    "                if k!=n:\n",
    "                    autores.add(k)\n",
    "                    autores.add(n)\n",
    "                    if k in ady_list:\n",
    "                        if n in ady_list[k]:\n",
    "                            ady_list[k][n]+=1\n",
    "                        else:\n",
    "                            ady_list[k][n]=1\n",
    "                    else:\n",
    "                        ady_list[k]=dict()\n",
    "                        ady_list[k][n]=1                   \n",
    "        temp=[]\n",
    "    else:\n",
    "        temp.append(i)\n",
    "    if articulos==1000000:\n",
    "        print(\"listo\")\n",
    "        break\n",
    "        "
   ]
  },
  {
   "cell_type": "code",
   "execution_count": 8,
   "id": "96ad7ff9",
   "metadata": {},
   "outputs": [
    {
     "data": {
      "text/plain": [
       "{'Petr Han&aacute;cek': 1}"
      ]
     },
     "execution_count": 8,
     "metadata": {},
     "output_type": "execute_result"
    }
   ],
   "source": [
    "ady_list['Ivan Homoliak']"
   ]
  },
  {
   "cell_type": "code",
   "execution_count": 15,
   "id": "a58c9977",
   "metadata": {},
   "outputs": [
    {
     "data": {
      "text/plain": [
       "60535"
      ]
     },
     "execution_count": 15,
     "metadata": {},
     "output_type": "execute_result"
    }
   ],
   "source": [
    "len(autores)"
   ]
  },
  {
   "cell_type": "code",
   "execution_count": 18,
   "id": "f79e617d",
   "metadata": {},
   "outputs": [
    {
     "name": "stdout",
     "output_type": "stream",
     "text": [
      "3608.0\n"
     ]
    }
   ],
   "source": [
    "stop=0\n",
    "\n",
    "for j in autores:\n",
    "    for i in ady_list[j]:\n",
    "        if ady_list[j][i]%2==0:\n",
    "            stop+=1\n",
    "print(stop/2)"
   ]
  },
  {
   "cell_type": "code",
   "execution_count": null,
   "id": "d730a624",
   "metadata": {},
   "outputs": [],
   "source": []
  }
 ],
 "metadata": {
  "kernelspec": {
   "display_name": "Python 3 (ipykernel)",
   "language": "python",
   "name": "python3"
  },
  "language_info": {
   "codemirror_mode": {
    "name": "ipython",
    "version": 3
   },
   "file_extension": ".py",
   "mimetype": "text/x-python",
   "name": "python",
   "nbconvert_exporter": "python",
   "pygments_lexer": "ipython3",
   "version": "3.9.13"
  }
 },
 "nbformat": 4,
 "nbformat_minor": 5
}
