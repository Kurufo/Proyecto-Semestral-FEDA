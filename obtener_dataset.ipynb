{
 "cells": [
  {
   "cell_type": "markdown",
   "id": "1355d0a7",
   "metadata": {},
   "source": [
    "Se debe descargar primero el archivo dblp.xml desde la página https://dblp.org/"
   ]
  },
  {
   "cell_type": "code",
   "execution_count": 1,
   "id": "9eb6f783",
   "metadata": {},
   "outputs": [
    {
     "data": {
      "text/plain": [
       "['<?xml version=\"1.0\" encoding=\"ISO-8859-1\"?>',\n",
       " '<!DOCTYPE dblp SYSTEM \"dblp.dtd\">',\n",
       " '<dblp>',\n",
       " '<data mdate=\"2023-03-15\" key=\"data/10/Lu22c\">',\n",
       " '<author orcid=\"0000-0001-9742-4173\">Peggy Joy Lu</author>',\n",
       " '<title>MI3.</title>',\n",
       " '<year>2022</year>',\n",
       " '<month>May</month>',\n",
       " '<ee>https://doi.org/10.21227/0ndm-6g50</ee>',\n",
       " '<publisher>IEEE DataPort</publisher>',\n",
       " '</data>',\n",
       " '<data mdate=\"2023-03-15\" key=\"data/10/HomoliakH22\">',\n",
       " '<author orcid=\"0000-0002-0790-0875\">Ivan Homoliak</author>',\n",
       " '<author orcid=\"0000-0001-5507-0768\">Petr Han&aacute;cek</author>',\n",
       " '<title>ASNM Datasets: A Collection of Network Traffic Data for Testing of Adversarial Classifiers and Network Intrusion Detectors.</title>',\n",
       " '<year>2022</year>',\n",
       " '<month>May</month>',\n",
       " '<ee type=\"oa\">https://doi.org/10.21227/081t-dj23</ee>',\n",
       " '<publisher>IEEE DataPort</publisher>',\n",
       " '</data>']"
      ]
     },
     "execution_count": 1,
     "metadata": {},
     "output_type": "execute_result"
    }
   ],
   "source": [
    "x=open(\"dblp.xml\", \"r\")\n",
    "x=x.read()\n",
    "x=x.split(\"\\n\")\n",
    "x[:20]"
   ]
  },
  {
   "cell_type": "code",
   "execution_count": 2,
   "id": "a541c9e1",
   "metadata": {},
   "outputs": [
    {
     "name": "stdout",
     "output_type": "stream",
     "text": [
      "done\n"
     ]
    }
   ],
   "source": [
    "data=[]\n",
    "for i in range(93368555):\n",
    "    if \"<author\" in x[i]:\n",
    "        x_i=x[i]\n",
    "        x_s=x_i[1:]\n",
    "        n=x_s.index(\">\")\n",
    "        m=x_s.index(\"<\")\n",
    "        data.append(x_s[n+1:m])\n",
    "    elif \"<title\" in x[i]:\n",
    "        data.append(\"t\")\n",
    "print(\"done\")"
   ]
  },
  {
   "cell_type": "code",
   "execution_count": 3,
   "id": "ffe8ab2b",
   "metadata": {},
   "outputs": [
    {
     "data": {
      "text/plain": [
       "34887779"
      ]
     },
     "execution_count": 3,
     "metadata": {},
     "output_type": "execute_result"
    }
   ],
   "source": [
    "len(data)"
   ]
  },
  {
   "cell_type": "code",
   "execution_count": 4,
   "id": "7ee990d8",
   "metadata": {},
   "outputs": [
    {
     "name": "stdout",
     "output_type": "stream",
     "text": [
      "done\n"
     ]
    }
   ],
   "source": [
    "autores=open(\"autores.txt\",\"w\")\n",
    "for i in data:\n",
    "    autores.write(i)\n",
    "    autores.write(\"\\n\")\n",
    "autores.close()\n",
    "print(\"done\")\n"
   ]
  }
 ],
 "metadata": {
  "kernelspec": {
   "display_name": "Python 3 (ipykernel)",
   "language": "python",
   "name": "python3"
  },
  "language_info": {
   "codemirror_mode": {
    "name": "ipython",
    "version": 3
   },
   "file_extension": ".py",
   "mimetype": "text/x-python",
   "name": "python",
   "nbconvert_exporter": "python",
   "pygments_lexer": "ipython3",
   "version": "3.9.13"
  }
 },
 "nbformat": 4,
 "nbformat_minor": 5
}
